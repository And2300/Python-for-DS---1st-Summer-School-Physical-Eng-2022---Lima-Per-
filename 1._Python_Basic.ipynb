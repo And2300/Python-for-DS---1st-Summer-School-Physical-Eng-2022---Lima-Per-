{
  "cells": [
    {
      "cell_type": "markdown",
      "metadata": {
        "id": "ZjgrrmD4Dvu-"
      },
      "source": [
        "# Basics"
      ]
    },
    {
      "cell_type": "markdown",
      "metadata": {
        "id": "3FuHJRlhDvvG"
      },
      "source": [
        "# Data Types"
      ]
    },
    {
      "cell_type": "markdown",
      "metadata": {
        "id": "Zm4FMoKMDvvG"
      },
      "source": [
        "## Números"
      ]
    },
    {
      "cell_type": "code",
      "execution_count": 1,
      "metadata": {
        "id": "9BF4kAgkDvvH",
        "colab": {
          "base_uri": "https://localhost:8080/"
        },
        "outputId": "9a084c9d-e3f6-4e91-9dd6-b5e8e6ecd77c"
      },
      "outputs": [
        {
          "output_type": "execute_result",
          "data": {
            "text/plain": [
              "2"
            ]
          },
          "metadata": {},
          "execution_count": 1
        }
      ],
      "source": [
        "#suma\n",
        "1+1"
      ]
    },
    {
      "cell_type": "code",
      "execution_count": 2,
      "metadata": {
        "id": "d0lvLlV8DvvJ",
        "colab": {
          "base_uri": "https://localhost:8080/"
        },
        "outputId": "ce6dce6e-c32e-4cba-e881-ae3348a20a43"
      },
      "outputs": [
        {
          "output_type": "execute_result",
          "data": {
            "text/plain": [
              "3"
            ]
          },
          "metadata": {},
          "execution_count": 2
        }
      ],
      "source": [
        "#multi\n",
        "1*3"
      ]
    },
    {
      "cell_type": "code",
      "execution_count": 3,
      "metadata": {
        "id": "4pKrl4oTDvvJ",
        "colab": {
          "base_uri": "https://localhost:8080/"
        },
        "outputId": "7fed2ad2-e23a-4f4a-b618-9f1f761a9715"
      },
      "outputs": [
        {
          "output_type": "execute_result",
          "data": {
            "text/plain": [
              "0.5"
            ]
          },
          "metadata": {},
          "execution_count": 3
        }
      ],
      "source": [
        "#Div\n",
        "1/2"
      ]
    },
    {
      "cell_type": "code",
      "execution_count": 4,
      "metadata": {
        "id": "ud1amps7DvvK",
        "colab": {
          "base_uri": "https://localhost:8080/"
        },
        "outputId": "92cd653f-45e4-4807-a099-6968f9ec9670"
      },
      "outputs": [
        {
          "output_type": "execute_result",
          "data": {
            "text/plain": [
              "8"
            ]
          },
          "metadata": {},
          "execution_count": 4
        }
      ],
      "source": [
        "#potencia\n",
        "2**3"
      ]
    },
    {
      "cell_type": "code",
      "execution_count": 5,
      "metadata": {
        "id": "MDReKQK5DvvM",
        "colab": {
          "base_uri": "https://localhost:8080/"
        },
        "outputId": "48797c03-f629-4810-be84-e3df952d0363"
      },
      "outputs": [
        {
          "output_type": "execute_result",
          "data": {
            "text/plain": [
              "0"
            ]
          },
          "metadata": {},
          "execution_count": 5
        }
      ],
      "source": [
        "#residuo\n",
        "4%2"
      ]
    },
    {
      "cell_type": "code",
      "execution_count": 6,
      "metadata": {
        "id": "fP7JMO2SDvvO",
        "colab": {
          "base_uri": "https://localhost:8080/"
        },
        "outputId": "3144c44b-4a47-43e4-d4ca-df0f5194a493"
      },
      "outputs": [
        {
          "output_type": "execute_result",
          "data": {
            "text/plain": [
              "2.0"
            ]
          },
          "metadata": {},
          "execution_count": 6
        }
      ],
      "source": [
        "#radic\n",
        "4**(1/2)"
      ]
    },
    {
      "cell_type": "code",
      "execution_count": 8,
      "metadata": {
        "id": "p_E3ZXFPDvvP",
        "colab": {
          "base_uri": "https://localhost:8080/"
        },
        "outputId": "800dd09f-6d22-4c28-ca50-41e9c54c47b3"
      },
      "outputs": [
        {
          "output_type": "execute_result",
          "data": {
            "text/plain": [
              "40.0"
            ]
          },
          "metadata": {},
          "execution_count": 8
        }
      ],
      "source": [
        "#ope comb\n",
        "(2+3)*(4*2.)"
      ]
    },
    {
      "cell_type": "markdown",
      "metadata": {
        "id": "lYuYmGruDvvQ"
      },
      "source": [
        "## Asignación"
      ]
    },
    {
      "cell_type": "code",
      "execution_count": 9,
      "metadata": {
        "id": "faMKMUsADvvQ"
      },
      "outputs": [],
      "source": [
        "#asignar\n",
        "x=3\n",
        "y=2."
      ]
    },
    {
      "cell_type": "code",
      "source": [
        "type(y)"
      ],
      "metadata": {
        "colab": {
          "base_uri": "https://localhost:8080/"
        },
        "id": "AYrWuU-nF9RL",
        "outputId": "5fae4468-9f54-49d5-b9bd-a529b788b347"
      },
      "execution_count": 11,
      "outputs": [
        {
          "output_type": "execute_result",
          "data": {
            "text/plain": [
              "float"
            ]
          },
          "metadata": {},
          "execution_count": 11
        }
      ]
    },
    {
      "cell_type": "code",
      "source": [
        "y=5."
      ],
      "metadata": {
        "id": "GaMkT8GsGBpI"
      },
      "execution_count": 12,
      "outputs": []
    },
    {
      "cell_type": "code",
      "source": [
        "y"
      ],
      "metadata": {
        "colab": {
          "base_uri": "https://localhost:8080/"
        },
        "id": "bS5iMHN_GBtA",
        "outputId": "1eecbb8c-7eca-4326-db5a-4f08d66afd5a"
      },
      "execution_count": 13,
      "outputs": [
        {
          "output_type": "execute_result",
          "data": {
            "text/plain": [
              "5.0"
            ]
          },
          "metadata": {},
          "execution_count": 13
        }
      ]
    },
    {
      "cell_type": "code",
      "execution_count": 14,
      "metadata": {
        "id": "l6WYNpqtDvvS"
      },
      "outputs": [],
      "source": [
        "#almacenen\n",
        "z=x+y"
      ]
    },
    {
      "cell_type": "code",
      "execution_count": 15,
      "metadata": {
        "id": "MwYFPXb-DvvS",
        "colab": {
          "base_uri": "https://localhost:8080/"
        },
        "outputId": "766e35d0-601f-4ca5-a380-8f927d365cc2"
      },
      "outputs": [
        {
          "output_type": "execute_result",
          "data": {
            "text/plain": [
              "8.0"
            ]
          },
          "metadata": {},
          "execution_count": 15
        }
      ],
      "source": [
        "z"
      ]
    },
    {
      "cell_type": "code",
      "source": [
        "type(z)"
      ],
      "metadata": {
        "colab": {
          "base_uri": "https://localhost:8080/"
        },
        "id": "tg4Ey5vVHxne",
        "outputId": "7c8751cb-a384-4be9-fc2c-0d14d0ad51a3"
      },
      "execution_count": 27,
      "outputs": [
        {
          "output_type": "execute_result",
          "data": {
            "text/plain": [
              "float"
            ]
          },
          "metadata": {},
          "execution_count": 27
        }
      ]
    },
    {
      "cell_type": "code",
      "source": [
        "type(int(z))"
      ],
      "metadata": {
        "colab": {
          "base_uri": "https://localhost:8080/"
        },
        "id": "xINJWjsDH0Jt",
        "outputId": "19874b0d-7a4b-4ce3-d3b6-f462c42c70d9"
      },
      "execution_count": 29,
      "outputs": [
        {
          "output_type": "execute_result",
          "data": {
            "text/plain": [
              "int"
            ]
          },
          "metadata": {},
          "execution_count": 29
        }
      ]
    },
    {
      "cell_type": "markdown",
      "metadata": {
        "id": "DAVU3BPPDvvT"
      },
      "source": [
        "## String"
      ]
    },
    {
      "cell_type": "code",
      "execution_count": 16,
      "metadata": {
        "id": "VkCsUoyFDvvU",
        "colab": {
          "base_uri": "https://localhost:8080/",
          "height": 35
        },
        "outputId": "9a7cfe3c-61b5-4aea-c0d5-6c3cf4319ff9"
      },
      "outputs": [
        {
          "output_type": "execute_result",
          "data": {
            "application/vnd.google.colaboratory.intrinsic+json": {
              "type": "string"
            },
            "text/plain": [
              "'string'"
            ]
          },
          "metadata": {},
          "execution_count": 16
        }
      ],
      "source": [
        "#string \"\"\n",
        "\"string\""
      ]
    },
    {
      "cell_type": "code",
      "execution_count": 17,
      "metadata": {
        "id": "-lSIOLfFDvvU",
        "colab": {
          "base_uri": "https://localhost:8080/",
          "height": 35
        },
        "outputId": "ee2e5975-cf9b-471d-dfad-df123cacf76e"
      },
      "outputs": [
        {
          "output_type": "execute_result",
          "data": {
            "application/vnd.google.colaboratory.intrinsic+json": {
              "type": "string"
            },
            "text/plain": [
              "'string'"
            ]
          },
          "metadata": {},
          "execution_count": 17
        }
      ],
      "source": [
        "# ''\n",
        "'string'"
      ]
    },
    {
      "cell_type": "code",
      "execution_count": 18,
      "metadata": {
        "id": "qkL5ZQ1zDvvV",
        "colab": {
          "base_uri": "https://localhost:8080/",
          "height": 35
        },
        "outputId": "cb430d3e-cc91-4755-ab91-cc6bb11ee8d2"
      },
      "outputs": [
        {
          "output_type": "execute_result",
          "data": {
            "application/vnd.google.colaboratory.intrinsic+json": {
              "type": "string"
            },
            "text/plain": [
              "\"ander's\""
            ]
          },
          "metadata": {},
          "execution_count": 18
        }
      ],
      "source": [
        "\"ander's\""
      ]
    },
    {
      "cell_type": "markdown",
      "metadata": {
        "id": "mgLfwkgpDvvW"
      },
      "source": [
        "## Printing"
      ]
    },
    {
      "cell_type": "code",
      "execution_count": 19,
      "metadata": {
        "id": "w7RG9I5lDvvW",
        "outputId": "c70333bc-4fcb-4c7b-82a3-a053b17023a9",
        "colab": {
          "base_uri": "https://localhost:8080/",
          "height": 35
        }
      },
      "outputs": [
        {
          "output_type": "execute_result",
          "data": {
            "application/vnd.google.colaboratory.intrinsic+json": {
              "type": "string"
            },
            "text/plain": [
              "'hola'"
            ]
          },
          "metadata": {},
          "execution_count": 19
        }
      ],
      "source": [
        "x = 'hola'\n",
        "x"
      ]
    },
    {
      "cell_type": "code",
      "execution_count": 20,
      "metadata": {
        "id": "s19nRW5TDvvX",
        "colab": {
          "base_uri": "https://localhost:8080/"
        },
        "outputId": "6ba56547-b0ab-4b3f-b349-dfbe2bd9fee6"
      },
      "outputs": [
        {
          "output_type": "stream",
          "name": "stdout",
          "text": [
            "hola\n"
          ]
        }
      ],
      "source": [
        "print(x)"
      ]
    },
    {
      "cell_type": "code",
      "execution_count": 21,
      "metadata": {
        "id": "BItKa3f_DvvX"
      },
      "outputs": [],
      "source": [
        "num = 12\n",
        "name = 'SAm'\n",
        "last = 'perez'"
      ]
    },
    {
      "cell_type": "code",
      "execution_count": 25,
      "metadata": {
        "id": "4ZIlEhOsDvvX",
        "colab": {
          "base_uri": "https://localhost:8080/"
        },
        "outputId": "3bc42e44-3170-4c0c-93bc-f7f641285814"
      },
      "outputs": [
        {
          "output_type": "stream",
          "name": "stdout",
          "text": [
            "SAmperez\n",
            "SAm perez\n",
            "12SAm\n"
          ]
        }
      ],
      "source": [
        "print(name+last)\n",
        "print(name+' '+last)\n",
        "print(str(num)+name)"
      ]
    },
    {
      "cell_type": "code",
      "source": [
        "print('Mi número es: {}, y mi nombre es: {}'.format(num,name))"
      ],
      "metadata": {
        "colab": {
          "base_uri": "https://localhost:8080/"
        },
        "id": "fEEPZsbwHa_a",
        "outputId": "2e08fe1f-5dbb-48ad-fc14-d6b9f93c53d9"
      },
      "execution_count": 26,
      "outputs": [
        {
          "output_type": "stream",
          "name": "stdout",
          "text": [
            "Mi número es: 12, y mi nombre es: SAm\n"
          ]
        }
      ]
    },
    {
      "cell_type": "markdown",
      "metadata": {
        "id": "eWUxuBUeDvvZ"
      },
      "source": [
        "## Listas"
      ]
    },
    {
      "cell_type": "code",
      "execution_count": 30,
      "metadata": {
        "id": "FGReK7p6DvvZ",
        "colab": {
          "base_uri": "https://localhost:8080/"
        },
        "outputId": "5f2b569e-6252-47c3-a875-00713afa85e1"
      },
      "outputs": [
        {
          "output_type": "execute_result",
          "data": {
            "text/plain": [
              "[1, 2, 3]"
            ]
          },
          "metadata": {},
          "execution_count": 30
        }
      ],
      "source": [
        "#número\n",
        "[1,2,3]"
      ]
    },
    {
      "cell_type": "code",
      "execution_count": 31,
      "metadata": {
        "id": "T-rB4iogDvvZ",
        "colab": {
          "base_uri": "https://localhost:8080/"
        },
        "outputId": "556a0eb1-5a1f-4265-fdb2-01462643d34d"
      },
      "outputs": [
        {
          "output_type": "execute_result",
          "data": {
            "text/plain": [
              "['hola', 1, [2, 4]]"
            ]
          },
          "metadata": {},
          "execution_count": 31
        }
      ],
      "source": [
        "#string + número\n",
        "['hola',1,[2,4]]"
      ]
    },
    {
      "cell_type": "code",
      "execution_count": 32,
      "metadata": {
        "id": "sMvjQBIXDvvZ"
      },
      "outputs": [],
      "source": [
        "#guardar\n",
        "my_list=['a','b','c']"
      ]
    },
    {
      "cell_type": "code",
      "execution_count": 33,
      "metadata": {
        "id": "P9U60UaWDvvZ"
      },
      "outputs": [],
      "source": [
        "#agregar elemento al final\n",
        "my_list.append('d')"
      ]
    },
    {
      "cell_type": "code",
      "execution_count": 34,
      "metadata": {
        "id": "x2T3okLFDvva",
        "colab": {
          "base_uri": "https://localhost:8080/"
        },
        "outputId": "73de6336-10b5-489a-a3f4-1901533a1b54"
      },
      "outputs": [
        {
          "output_type": "execute_result",
          "data": {
            "text/plain": [
              "['a', 'b', 'c', 'd']"
            ]
          },
          "metadata": {},
          "execution_count": 34
        }
      ],
      "source": [
        "my_list"
      ]
    },
    {
      "cell_type": "code",
      "execution_count": 35,
      "metadata": {
        "id": "JKd02Kx4Dvva",
        "colab": {
          "base_uri": "https://localhost:8080/",
          "height": 35
        },
        "outputId": "7e249b73-4f68-4957-ffb4-f25b13b163d1"
      },
      "outputs": [
        {
          "output_type": "execute_result",
          "data": {
            "application/vnd.google.colaboratory.intrinsic+json": {
              "type": "string"
            },
            "text/plain": [
              "'a'"
            ]
          },
          "metadata": {},
          "execution_count": 35
        }
      ],
      "source": [
        "#primer elmento\n",
        "my_list[0]"
      ]
    },
    {
      "cell_type": "code",
      "execution_count": 36,
      "metadata": {
        "id": "e-mLG2UXDvva",
        "colab": {
          "base_uri": "https://localhost:8080/",
          "height": 35
        },
        "outputId": "ee7c0bed-5c6a-4b19-a54b-118777ed4f12"
      },
      "outputs": [
        {
          "output_type": "execute_result",
          "data": {
            "application/vnd.google.colaboratory.intrinsic+json": {
              "type": "string"
            },
            "text/plain": [
              "'d'"
            ]
          },
          "metadata": {},
          "execution_count": 36
        }
      ],
      "source": [
        "#último elemento\n",
        "my_list[3]"
      ]
    },
    {
      "cell_type": "code",
      "source": [
        "my_list[len(my_list)-1]"
      ],
      "metadata": {
        "colab": {
          "base_uri": "https://localhost:8080/",
          "height": 35
        },
        "id": "goYv5t_KJKvl",
        "outputId": "db1e6545-e57a-4332-f3cf-170481db066f"
      },
      "execution_count": 38,
      "outputs": [
        {
          "output_type": "execute_result",
          "data": {
            "application/vnd.google.colaboratory.intrinsic+json": {
              "type": "string"
            },
            "text/plain": [
              "'d'"
            ]
          },
          "metadata": {},
          "execution_count": 38
        }
      ]
    },
    {
      "cell_type": "code",
      "execution_count": 39,
      "metadata": {
        "id": "06sMxhilDvvb",
        "colab": {
          "base_uri": "https://localhost:8080/",
          "height": 35
        },
        "outputId": "a8e228ef-8b3e-4ff0-f740-9feddd04f99b"
      },
      "outputs": [
        {
          "output_type": "execute_result",
          "data": {
            "application/vnd.google.colaboratory.intrinsic+json": {
              "type": "string"
            },
            "text/plain": [
              "'d'"
            ]
          },
          "metadata": {},
          "execution_count": 39
        }
      ],
      "source": [
        "#último elemento\n",
        "my_list[-1]"
      ]
    },
    {
      "cell_type": "code",
      "execution_count": 40,
      "metadata": {
        "id": "SOPNnzz2Dvvb",
        "colab": {
          "base_uri": "https://localhost:8080/"
        },
        "outputId": "988366b9-e3da-4818-d72d-f5eacb32ff98"
      },
      "outputs": [
        {
          "output_type": "execute_result",
          "data": {
            "text/plain": [
              "4"
            ]
          },
          "metadata": {},
          "execution_count": 40
        }
      ],
      "source": [
        "#tamaño de la cadena\n",
        "len(my_list)"
      ]
    },
    {
      "cell_type": "code",
      "execution_count": 41,
      "metadata": {
        "id": "v9I_Q4w9Dvvc",
        "colab": {
          "base_uri": "https://localhost:8080/"
        },
        "outputId": "0d0c2845-ec34-442f-fde2-08b2689aa274"
      },
      "outputs": [
        {
          "output_type": "execute_result",
          "data": {
            "text/plain": [
              "['a']"
            ]
          },
          "metadata": {},
          "execution_count": 41
        }
      ],
      "source": [
        "my_list[0:1]"
      ]
    },
    {
      "cell_type": "code",
      "source": [
        "my_list[0:2]"
      ],
      "metadata": {
        "colab": {
          "base_uri": "https://localhost:8080/"
        },
        "id": "UPphCetDJdBJ",
        "outputId": "5dc44207-e0b3-48da-acf1-26b37664f01e"
      },
      "execution_count": 42,
      "outputs": [
        {
          "output_type": "execute_result",
          "data": {
            "text/plain": [
              "['a', 'b']"
            ]
          },
          "metadata": {},
          "execution_count": 42
        }
      ]
    },
    {
      "cell_type": "code",
      "source": [
        "my_list[:-1]"
      ],
      "metadata": {
        "colab": {
          "base_uri": "https://localhost:8080/"
        },
        "id": "CBOZ7dYwJdD7",
        "outputId": "72a764b2-aa55-434a-c1ed-4edc75be16db"
      },
      "execution_count": 43,
      "outputs": [
        {
          "output_type": "execute_result",
          "data": {
            "text/plain": [
              "['a', 'b', 'c']"
            ]
          },
          "metadata": {},
          "execution_count": 43
        }
      ]
    },
    {
      "cell_type": "code",
      "execution_count": 44,
      "metadata": {
        "id": "9rpXo2R6Dvvc"
      },
      "outputs": [],
      "source": [
        "#cambio de elementos\n",
        "my_list[0]='NEW'"
      ]
    },
    {
      "cell_type": "code",
      "execution_count": 45,
      "metadata": {
        "id": "8ukEyYRBDvvc",
        "colab": {
          "base_uri": "https://localhost:8080/"
        },
        "outputId": "64e6baa4-4313-48e8-b2e8-064acc5f2d49"
      },
      "outputs": [
        {
          "output_type": "execute_result",
          "data": {
            "text/plain": [
              "['NEW', 'b', 'c', 'd']"
            ]
          },
          "metadata": {},
          "execution_count": 45
        }
      ],
      "source": [
        "my_list"
      ]
    },
    {
      "cell_type": "code",
      "execution_count": 46,
      "metadata": {
        "id": "Lwk2w0fEDvvc"
      },
      "outputs": [],
      "source": [
        "#arreglo dentro de un arreglo\n",
        "arreglo=[1,2,3,[4,5,['target']]]"
      ]
    },
    {
      "cell_type": "code",
      "source": [
        "arreglo[3][2][0]"
      ],
      "metadata": {
        "colab": {
          "base_uri": "https://localhost:8080/",
          "height": 35
        },
        "id": "xlvYU34xKMJ7",
        "outputId": "5c8fcc04-2e22-4bf3-ea27-0b28f816f59e"
      },
      "execution_count": 48,
      "outputs": [
        {
          "output_type": "execute_result",
          "data": {
            "application/vnd.google.colaboratory.intrinsic+json": {
              "type": "string"
            },
            "text/plain": [
              "'target'"
            ]
          },
          "metadata": {},
          "execution_count": 48
        }
      ]
    },
    {
      "cell_type": "code",
      "execution_count": 49,
      "metadata": {
        "id": "n0SnqehhDvvd",
        "colab": {
          "base_uri": "https://localhost:8080/"
        },
        "outputId": "6739193f-1442-448c-a521-bc8efe9d37b3"
      },
      "outputs": [
        {
          "output_type": "execute_result",
          "data": {
            "text/plain": [
              "[4, 5, ['target']]"
            ]
          },
          "metadata": {},
          "execution_count": 49
        }
      ],
      "source": [
        "#elimiar elemento final\n",
        "arreglo.pop(-1)"
      ]
    },
    {
      "cell_type": "code",
      "execution_count": 50,
      "metadata": {
        "id": "1H6oxtd7Dvvd",
        "colab": {
          "base_uri": "https://localhost:8080/"
        },
        "outputId": "262ce4df-df5d-428e-8668-d749fcf96356"
      },
      "outputs": [
        {
          "output_type": "execute_result",
          "data": {
            "text/plain": [
              "[1, 2, 3]"
            ]
          },
          "metadata": {},
          "execution_count": 50
        }
      ],
      "source": [
        "arreglo"
      ]
    },
    {
      "cell_type": "markdown",
      "metadata": {
        "id": "-JUj-U_hDvvd"
      },
      "source": [
        "## Diccionarios"
      ]
    },
    {
      "cell_type": "code",
      "execution_count": 52,
      "metadata": {
        "id": "GbMMMobTDvvd"
      },
      "outputs": [],
      "source": [
        "#key , item\n",
        "d = {'key1':'item1', 'key2':'item2'}"
      ]
    },
    {
      "cell_type": "code",
      "execution_count": 53,
      "metadata": {
        "id": "uNEvX4W4Dvvd",
        "outputId": "58b3c8a0-2559-47bf-aa77-9dd9d34077cc",
        "colab": {
          "base_uri": "https://localhost:8080/"
        }
      },
      "outputs": [
        {
          "output_type": "execute_result",
          "data": {
            "text/plain": [
              "{'key1': 'item1', 'key2': 'item2'}"
            ]
          },
          "metadata": {},
          "execution_count": 53
        }
      ],
      "source": [
        "d"
      ]
    },
    {
      "cell_type": "code",
      "execution_count": 54,
      "metadata": {
        "id": "zku676jwDvve",
        "colab": {
          "base_uri": "https://localhost:8080/"
        },
        "outputId": "5d2cc503-184c-45a1-debc-5ccd49fd0d26"
      },
      "outputs": [
        {
          "output_type": "execute_result",
          "data": {
            "text/plain": [
              "['key1', 'key2']"
            ]
          },
          "metadata": {},
          "execution_count": 54
        }
      ],
      "source": [
        "list(d)"
      ]
    },
    {
      "cell_type": "code",
      "execution_count": 55,
      "metadata": {
        "id": "Pv4UdzqsDvve",
        "colab": {
          "base_uri": "https://localhost:8080/",
          "height": 35
        },
        "outputId": "da349c57-707f-44c4-afbc-8d2868eed4a7"
      },
      "outputs": [
        {
          "output_type": "execute_result",
          "data": {
            "application/vnd.google.colaboratory.intrinsic+json": {
              "type": "string"
            },
            "text/plain": [
              "'item1'"
            ]
          },
          "metadata": {},
          "execution_count": 55
        }
      ],
      "source": [
        "d['key1']"
      ]
    },
    {
      "cell_type": "code",
      "execution_count": 59,
      "metadata": {
        "id": "oIAi7UkOFSyz",
        "colab": {
          "base_uri": "https://localhost:8080/"
        },
        "outputId": "a8f4eae2-af52-461c-90dc-b62c93f37c9e"
      },
      "outputs": [
        {
          "output_type": "stream",
          "name": "stdout",
          "text": [
            "345\n",
            "69.0\n"
          ]
        }
      ],
      "source": [
        "subject={'Math':65,'English':70,'History':80,'Hindi':70,'Science':60}\n",
        "\n",
        "math = subject['Math']\n",
        "eng = subject['English']\n",
        "hist = subject['History']\n",
        "hind = subject['Hindi']\n",
        "sci = subject['Science']\n",
        "\n",
        "Total = math+eng+hist+hind+sci\n",
        "print(Total)\n",
        "\n",
        "avg = Total/5\n",
        "\n",
        "print(avg)\n"
      ]
    },
    {
      "cell_type": "code",
      "execution_count": 61,
      "metadata": {
        "id": "ASo_tB3UFSy1",
        "colab": {
          "base_uri": "https://localhost:8080/"
        },
        "outputId": "6229cebe-d7f0-4de7-a291-f9d8f3ded1c0"
      },
      "outputs": [
        {
          "output_type": "stream",
          "name": "stdout",
          "text": [
            "Andrew Ng\n"
          ]
        }
      ],
      "source": [
        "Maths = {'Andrew Ng':95, 'Geoffrey Hinton': 78, 'Sebastian Raschka': 65, 'Yoshua Benjio':50}\n",
        "\n",
        "top = max(Maths, key=Maths.get)\n",
        "\n",
        "print(top)"
      ]
    },
    {
      "cell_type": "markdown",
      "metadata": {
        "id": "gYEuLYyiDvvf"
      },
      "source": [
        "## Booleans"
      ]
    },
    {
      "cell_type": "code",
      "execution_count": 62,
      "metadata": {
        "id": "Bn5vkcZDDvvf",
        "colab": {
          "base_uri": "https://localhost:8080/"
        },
        "outputId": "c05f310a-cd11-4525-ec1b-967d32cf61c8"
      },
      "outputs": [
        {
          "output_type": "execute_result",
          "data": {
            "text/plain": [
              "True"
            ]
          },
          "metadata": {},
          "execution_count": 62
        }
      ],
      "source": [
        "True"
      ]
    },
    {
      "cell_type": "code",
      "source": [
        "False"
      ],
      "metadata": {
        "colab": {
          "base_uri": "https://localhost:8080/"
        },
        "id": "iOcQk3RzNCkn",
        "outputId": "d57a95f4-79be-4a48-d170-c0ba4c88f451"
      },
      "execution_count": 63,
      "outputs": [
        {
          "output_type": "execute_result",
          "data": {
            "text/plain": [
              "False"
            ]
          },
          "metadata": {},
          "execution_count": 63
        }
      ]
    },
    {
      "cell_type": "code",
      "source": [
        "x= 1"
      ],
      "metadata": {
        "id": "P_ucFsVwNCoB"
      },
      "execution_count": 64,
      "outputs": []
    },
    {
      "cell_type": "code",
      "source": [
        "x==1"
      ],
      "metadata": {
        "colab": {
          "base_uri": "https://localhost:8080/"
        },
        "id": "tP2pONX5NFxg",
        "outputId": "87a72817-e5f6-434e-a1f3-f580a0bdeebb"
      },
      "execution_count": 65,
      "outputs": [
        {
          "output_type": "execute_result",
          "data": {
            "text/plain": [
              "True"
            ]
          },
          "metadata": {},
          "execution_count": 65
        }
      ]
    },
    {
      "cell_type": "code",
      "source": [
        "x>1"
      ],
      "metadata": {
        "colab": {
          "base_uri": "https://localhost:8080/"
        },
        "id": "Z2mbPbojNF4Q",
        "outputId": "536a0bc4-4ba4-46a2-e05b-72a8bc9be4d9"
      },
      "execution_count": 66,
      "outputs": [
        {
          "output_type": "execute_result",
          "data": {
            "text/plain": [
              "False"
            ]
          },
          "metadata": {},
          "execution_count": 66
        }
      ]
    },
    {
      "cell_type": "code",
      "execution_count": 68,
      "metadata": {
        "id": "VvJFAGT4dU7j",
        "colab": {
          "base_uri": "https://localhost:8080/"
        },
        "outputId": "f984c50f-fc95-437d-e238-16d3fa2803f3"
      },
      "outputs": [
        {
          "output_type": "stream",
          "name": "stdout",
          "text": [
            "positive\n",
            "negative\n"
          ]
        }
      ],
      "source": [
        "num = 5\n",
        "condition = None\n",
        "\n",
        "if num>0:\n",
        "  condition='positive'\n",
        "  print(condition)\n",
        "elif num==0:\n",
        "  condition='zero'\n",
        "  print(condition)  \n",
        "else:\n",
        "  condition='negative'\n",
        "  print(condition)"
      ]
    },
    {
      "cell_type": "markdown",
      "metadata": {
        "id": "czdR4NBkDvvg"
      },
      "source": [
        "## Tupla\n",
        "La tupla es inmutable"
      ]
    },
    {
      "cell_type": "code",
      "execution_count": 69,
      "metadata": {
        "id": "hFuO_2D8Dvvg"
      },
      "outputs": [],
      "source": [
        "t = (1,'hola',(1,2))"
      ]
    },
    {
      "cell_type": "code",
      "execution_count": 70,
      "metadata": {
        "id": "NkCsX0n0Dvvg",
        "colab": {
          "base_uri": "https://localhost:8080/"
        },
        "outputId": "9a83b1ac-da1e-4233-9fec-e67a8e6b191e"
      },
      "outputs": [
        {
          "output_type": "execute_result",
          "data": {
            "text/plain": [
              "(1, 2)"
            ]
          },
          "metadata": {},
          "execution_count": 70
        }
      ],
      "source": [
        "t[2]"
      ]
    },
    {
      "cell_type": "code",
      "execution_count": 71,
      "metadata": {
        "id": "rELA2KJ3Dvvh",
        "colab": {
          "base_uri": "https://localhost:8080/",
          "height": 165
        },
        "outputId": "547b906f-8098-4deb-fc9b-eb3c778be98d"
      },
      "outputs": [
        {
          "output_type": "error",
          "ename": "TypeError",
          "evalue": "ignored",
          "traceback": [
            "\u001b[0;31m---------------------------------------------------------------------------\u001b[0m",
            "\u001b[0;31mTypeError\u001b[0m                                 Traceback (most recent call last)",
            "\u001b[0;32m<ipython-input-71-973e48b10d6d>\u001b[0m in \u001b[0;36m<module>\u001b[0;34m()\u001b[0m\n\u001b[0;32m----> 1\u001b[0;31m \u001b[0mt\u001b[0m\u001b[0;34m[\u001b[0m\u001b[0;36m0\u001b[0m\u001b[0;34m]\u001b[0m\u001b[0;34m=\u001b[0m\u001b[0;34m'New'\u001b[0m\u001b[0;34m\u001b[0m\u001b[0;34m\u001b[0m\u001b[0m\n\u001b[0m",
            "\u001b[0;31mTypeError\u001b[0m: 'tuple' object does not support item assignment"
          ]
        }
      ],
      "source": [
        "t[0]='New'"
      ]
    },
    {
      "cell_type": "markdown",
      "metadata": {
        "id": "aBXBhg2IDvvh"
      },
      "source": [
        "## Comparaciones"
      ]
    },
    {
      "cell_type": "code",
      "execution_count": 72,
      "metadata": {
        "id": "0Q0CtgpMDvvi",
        "colab": {
          "base_uri": "https://localhost:8080/"
        },
        "outputId": "6c55834e-2262-4b82-df23-68699310bcf1"
      },
      "outputs": [
        {
          "output_type": "execute_result",
          "data": {
            "text/plain": [
              "True"
            ]
          },
          "metadata": {},
          "execution_count": 72
        }
      ],
      "source": [
        "1<=2"
      ]
    },
    {
      "cell_type": "code",
      "source": [
        "2>=4"
      ],
      "metadata": {
        "colab": {
          "base_uri": "https://localhost:8080/"
        },
        "id": "1mDPlhNDOaHz",
        "outputId": "d3c21c32-b4e8-4522-fc27-6d2b2260f325"
      },
      "execution_count": 73,
      "outputs": [
        {
          "output_type": "execute_result",
          "data": {
            "text/plain": [
              "False"
            ]
          },
          "metadata": {},
          "execution_count": 73
        }
      ]
    },
    {
      "cell_type": "code",
      "source": [
        "'hola'=='adios'"
      ],
      "metadata": {
        "colab": {
          "base_uri": "https://localhost:8080/"
        },
        "id": "R5tzqIk5OaNS",
        "outputId": "591ea3aa-63d5-4440-8d3f-d50dae6e35ec"
      },
      "execution_count": 74,
      "outputs": [
        {
          "output_type": "execute_result",
          "data": {
            "text/plain": [
              "False"
            ]
          },
          "metadata": {},
          "execution_count": 74
        }
      ]
    },
    {
      "cell_type": "markdown",
      "metadata": {
        "id": "3ZRasObLDvvi"
      },
      "source": [
        "## Operadores lógicos\n",
        "* and\n",
        "* or"
      ]
    },
    {
      "cell_type": "code",
      "execution_count": 75,
      "metadata": {
        "id": "SfGzSGHsDvvi",
        "colab": {
          "base_uri": "https://localhost:8080/"
        },
        "outputId": "4e789049-7f08-430b-e9a7-84fd519aadcb"
      },
      "outputs": [
        {
          "output_type": "execute_result",
          "data": {
            "text/plain": [
              "False"
            ]
          },
          "metadata": {},
          "execution_count": 75
        }
      ],
      "source": [
        "(1>2) and (2<3)"
      ]
    },
    {
      "cell_type": "code",
      "execution_count": 76,
      "metadata": {
        "id": "I27eVorlDvvi",
        "colab": {
          "base_uri": "https://localhost:8080/"
        },
        "outputId": "b4d3b21e-8604-4254-9113-915ed05e549e"
      },
      "outputs": [
        {
          "output_type": "execute_result",
          "data": {
            "text/plain": [
              "True"
            ]
          },
          "metadata": {},
          "execution_count": 76
        }
      ],
      "source": [
        "(1==2) or (2==3) or (2<3)"
      ]
    },
    {
      "cell_type": "markdown",
      "metadata": {
        "id": "JbyinB3fDvvk"
      },
      "source": [
        "## For"
      ]
    },
    {
      "cell_type": "code",
      "execution_count": 77,
      "metadata": {
        "id": "HCN-HKu9Dvvk"
      },
      "outputs": [],
      "source": [
        "seq = [1,2,3,4,5]"
      ]
    },
    {
      "cell_type": "code",
      "source": [
        "for i in range(len(seq)):\n",
        "  print(seq[i])"
      ],
      "metadata": {
        "colab": {
          "base_uri": "https://localhost:8080/"
        },
        "id": "vTsvEB5GPt5p",
        "outputId": "b3588bed-b86d-4873-e602-cb43ba10900a"
      },
      "execution_count": 80,
      "outputs": [
        {
          "output_type": "stream",
          "name": "stdout",
          "text": [
            "1\n",
            "2\n",
            "3\n",
            "4\n",
            "5\n"
          ]
        }
      ]
    },
    {
      "cell_type": "code",
      "source": [
        "for item in seq:\n",
        "  print(item)"
      ],
      "metadata": {
        "colab": {
          "base_uri": "https://localhost:8080/"
        },
        "id": "rnakwGZuQIhV",
        "outputId": "52d26246-feab-4955-e432-1d3bed195183"
      },
      "execution_count": 81,
      "outputs": [
        {
          "output_type": "stream",
          "name": "stdout",
          "text": [
            "1\n",
            "2\n",
            "3\n",
            "4\n",
            "5\n"
          ]
        }
      ]
    },
    {
      "cell_type": "code",
      "source": [
        "for item in seq: \n",
        "  print('yes')"
      ],
      "metadata": {
        "colab": {
          "base_uri": "https://localhost:8080/"
        },
        "id": "BRglnTQePt_G",
        "outputId": "6552ea43-31f7-4e5d-9b0f-aa74fef8d20b"
      },
      "execution_count": 82,
      "outputs": [
        {
          "output_type": "stream",
          "name": "stdout",
          "text": [
            "yes\n",
            "yes\n",
            "yes\n",
            "yes\n",
            "yes\n"
          ]
        }
      ]
    },
    {
      "cell_type": "code",
      "source": [
        "for item in seq: \n",
        "  print(item**2)"
      ],
      "metadata": {
        "colab": {
          "base_uri": "https://localhost:8080/"
        },
        "id": "jRZdusL6PuBZ",
        "outputId": "8f4da17f-719e-4af0-b34e-8552b136346a"
      },
      "execution_count": 83,
      "outputs": [
        {
          "output_type": "stream",
          "name": "stdout",
          "text": [
            "1\n",
            "4\n",
            "9\n",
            "16\n",
            "25\n"
          ]
        }
      ]
    },
    {
      "cell_type": "code",
      "execution_count": 86,
      "metadata": {
        "id": "89wrZhpRdU7y",
        "colab": {
          "base_uri": "https://localhost:8080/"
        },
        "outputId": "83304f6b-5170-4d4f-d300-2ae676d2a117"
      },
      "outputs": [
        {
          "output_type": "stream",
          "name": "stdout",
          "text": [
            "[2, 3, 4, 6, 8, 9, 10, 12, 14, 15, 16, 18, 20, 21, 22, 24, 26, 27, 28, 30, 32, 33, 34, 36, 38, 39, 40, 42, 44, 45, 46, 48]\n"
          ]
        }
      ],
      "source": [
        "empty_list = []\n",
        "\n",
        "for i in range(1,50):\n",
        "  if not i%2 or not i%3:\n",
        "    #print(i)\n",
        "    empty_list.append(i)\n",
        "\n",
        "print(empty_list)"
      ]
    },
    {
      "cell_type": "code",
      "execution_count": 88,
      "metadata": {
        "id": "mxJUq_1BdU71",
        "colab": {
          "base_uri": "https://localhost:8080/"
        },
        "outputId": "410f40f6-84c9-4831-c4c1-e416981d46ce"
      },
      "outputs": [
        {
          "output_type": "stream",
          "name": "stdout",
          "text": [
            "[1, 2, 4, 5, 7, 8, 10, 11, 13, 14, 16, 17, 19, 20, 22, 23, 25, 26, 28, 29, 31, 32, 34, 35, 37, 38, 40, 41, 43, 44, 46, 47, 49, 50, 52, 53, 55, 56, 58, 59, 61, 62, 64, 65, 67, 68, 70, 71, 73, 74, 76, 77, 79, 80, 82, 83, 85, 86, 88, 89, 91, 92, 94, 95, 97, 98]\n"
          ]
        }
      ],
      "source": [
        "empty_list = []\n",
        "\n",
        "for i in range(1,100):\n",
        "  if not i%3:\n",
        "    continue\n",
        "  else:\n",
        "    empty_list.append(i)\n",
        "\n",
        "print(empty_list)"
      ]
    },
    {
      "cell_type": "markdown",
      "metadata": {
        "id": "QWTVSBPHDvvl"
      },
      "source": [
        "## while"
      ]
    },
    {
      "cell_type": "code",
      "execution_count": 90,
      "metadata": {
        "id": "V6-lkPwGDvvl",
        "colab": {
          "base_uri": "https://localhost:8080/"
        },
        "outputId": "e4dd8bcf-736e-4728-831f-58bf5376c8f5"
      },
      "outputs": [
        {
          "output_type": "stream",
          "name": "stdout",
          "text": [
            "i es 5\n",
            "i es 6\n",
            "i es 7\n",
            "i es 8\n",
            "i es 9\n"
          ]
        }
      ],
      "source": [
        "i=5\n",
        "\n",
        "while i<10:\n",
        "  print('i es: ' + str(i))\n",
        "  i=i+1"
      ]
    },
    {
      "cell_type": "code",
      "execution_count": 91,
      "metadata": {
        "id": "gS-tEbesdU7v",
        "colab": {
          "base_uri": "https://localhost:8080/"
        },
        "outputId": "610d3b5e-1e59-4557-b38a-d567f35f5662"
      },
      "outputs": [
        {
          "output_type": "stream",
          "name": "stdout",
          "text": [
            "[10, 20, 30, 40, 50, 60, 70, 80, 90, 100]\n"
          ]
        }
      ],
      "source": [
        "factors, num = [], 1\n",
        "\n",
        "while num<=100:\n",
        "  if not num%10:\n",
        "    factors.append(num)\n",
        "  num+=1\n",
        "\n",
        "print(factors)"
      ]
    },
    {
      "cell_type": "markdown",
      "metadata": {
        "id": "ko6dV75QDvvl"
      },
      "source": [
        "## Range"
      ]
    },
    {
      "cell_type": "code",
      "execution_count": 92,
      "metadata": {
        "id": "LQQYNewGDvvm",
        "colab": {
          "base_uri": "https://localhost:8080/"
        },
        "outputId": "3d63bf89-b640-40a9-9f6d-1e01d1e5bef3"
      },
      "outputs": [
        {
          "output_type": "execute_result",
          "data": {
            "text/plain": [
              "range(0, 5)"
            ]
          },
          "metadata": {},
          "execution_count": 92
        }
      ],
      "source": [
        "range(5)"
      ]
    },
    {
      "cell_type": "code",
      "source": [
        "range(2,50)"
      ],
      "metadata": {
        "colab": {
          "base_uri": "https://localhost:8080/"
        },
        "id": "NtGbqByQSyN3",
        "outputId": "c9a5bcd6-77b2-444f-b39b-b42f24eb8350"
      },
      "execution_count": 93,
      "outputs": [
        {
          "output_type": "execute_result",
          "data": {
            "text/plain": [
              "range(2, 50)"
            ]
          },
          "metadata": {},
          "execution_count": 93
        }
      ]
    },
    {
      "cell_type": "code",
      "source": [
        "list(range(2,50))"
      ],
      "metadata": {
        "id": "thQZsgreS0Jr"
      },
      "execution_count": null,
      "outputs": []
    },
    {
      "cell_type": "markdown",
      "metadata": {
        "id": "uNWhYCIqDvvm"
      },
      "source": [
        "## Lista compresiva"
      ]
    },
    {
      "cell_type": "code",
      "execution_count": 96,
      "metadata": {
        "id": "aD2TckLeDvvn"
      },
      "outputs": [],
      "source": [
        "x = list(range(5))"
      ]
    },
    {
      "cell_type": "code",
      "execution_count": 97,
      "metadata": {
        "id": "BrAPDUaADvvn",
        "colab": {
          "base_uri": "https://localhost:8080/"
        },
        "outputId": "afd5401e-32a3-4ec6-fb5f-69c740ef80bf"
      },
      "outputs": [
        {
          "output_type": "stream",
          "name": "stdout",
          "text": [
            "[0, 1, 4, 9, 16]\n"
          ]
        }
      ],
      "source": [
        "salida=[]\n",
        "\n",
        "for item in x:\n",
        "  salida.append(item**2)\n",
        "\n",
        "print(salida)"
      ]
    },
    {
      "cell_type": "markdown",
      "metadata": {
        "id": "QvNQFK9bDvvn"
      },
      "source": [
        "## Funciones"
      ]
    },
    {
      "cell_type": "code",
      "execution_count": 98,
      "metadata": {
        "id": "oweeV0xSDvvn"
      },
      "outputs": [],
      "source": [
        "def my_fuc(param1='default'):\n",
        "    \"\"\"\n",
        "    escribe aquí\n",
        "    \"\"\"\n",
        "    print(param1)"
      ]
    },
    {
      "cell_type": "code",
      "execution_count": 104,
      "metadata": {
        "id": "S89NH6RxDvvn"
      },
      "outputs": [],
      "source": [
        "def my_fuc(param1='default'):\n",
        "    \"\"\"\n",
        "    escribe aquí\n",
        "    \"\"\"\n",
        "    print(param1)\n",
        "    return salida"
      ]
    },
    {
      "cell_type": "code",
      "execution_count": 101,
      "metadata": {
        "id": "crZW3taLDvvn",
        "outputId": "87bd8250-b7d8-4195-ea67-5eb8ff2bb30d",
        "colab": {
          "base_uri": "https://localhost:8080/"
        }
      },
      "outputs": [
        {
          "output_type": "execute_result",
          "data": {
            "text/plain": [
              "<function __main__.my_fuc>"
            ]
          },
          "metadata": {},
          "execution_count": 101
        }
      ],
      "source": [
        "my_fuc"
      ]
    },
    {
      "cell_type": "code",
      "execution_count": 105,
      "metadata": {
        "id": "wYY3kZ9JdU8F",
        "colab": {
          "base_uri": "https://localhost:8080/"
        },
        "outputId": "58b7055b-4a36-488a-9983-e75e2d92f178"
      },
      "outputs": [
        {
          "output_type": "stream",
          "name": "stdout",
          "text": [
            "default\n"
          ]
        },
        {
          "output_type": "execute_result",
          "data": {
            "text/plain": [
              "[0, 1, 4, 9, 16]"
            ]
          },
          "metadata": {},
          "execution_count": 105
        }
      ],
      "source": [
        "my_fuc()"
      ]
    },
    {
      "cell_type": "code",
      "source": [
        "def promedio(n):\n",
        "  total = 0\n",
        "  for i in range(n+1):\n",
        "    total= total+i\n",
        "  return total/n"
      ],
      "metadata": {
        "id": "j4P55D9FUAkE"
      },
      "execution_count": 108,
      "outputs": []
    },
    {
      "cell_type": "code",
      "source": [
        "val = promedio(4)"
      ],
      "metadata": {
        "id": "nc76y7fuUAor"
      },
      "execution_count": 110,
      "outputs": []
    },
    {
      "cell_type": "code",
      "source": [
        "val"
      ],
      "metadata": {
        "colab": {
          "base_uri": "https://localhost:8080/"
        },
        "id": "J31vg4YqUAsG",
        "outputId": "466f6a30-49f2-48c2-8b5c-434a401f6d49"
      },
      "execution_count": 111,
      "outputs": [
        {
          "output_type": "execute_result",
          "data": {
            "text/plain": [
              "2.5"
            ]
          },
          "metadata": {},
          "execution_count": 111
        }
      ]
    },
    {
      "cell_type": "markdown",
      "metadata": {
        "id": "sa9yXuzLDvvr"
      },
      "source": [
        "## Methods"
      ]
    },
    {
      "cell_type": "code",
      "execution_count": 112,
      "metadata": {
        "id": "KQgCOk4QDvvr"
      },
      "outputs": [],
      "source": [
        "st = 'Hola mi nombre es Sam'"
      ]
    },
    {
      "cell_type": "code",
      "source": [
        "st.lower()"
      ],
      "metadata": {
        "colab": {
          "base_uri": "https://localhost:8080/",
          "height": 35
        },
        "id": "2CD9vp1JU4qZ",
        "outputId": "dae1ec02-fa3c-4b54-c1e6-3f9f661a7cd9"
      },
      "execution_count": 113,
      "outputs": [
        {
          "output_type": "execute_result",
          "data": {
            "application/vnd.google.colaboratory.intrinsic+json": {
              "type": "string"
            },
            "text/plain": [
              "'hola mi nombre es sam'"
            ]
          },
          "metadata": {},
          "execution_count": 113
        }
      ]
    },
    {
      "cell_type": "code",
      "source": [
        "st.upper()"
      ],
      "metadata": {
        "colab": {
          "base_uri": "https://localhost:8080/",
          "height": 35
        },
        "id": "VgSNUjYJU4uP",
        "outputId": "e0d469d6-f083-4587-9fc8-ae85c4153610"
      },
      "execution_count": 114,
      "outputs": [
        {
          "output_type": "execute_result",
          "data": {
            "application/vnd.google.colaboratory.intrinsic+json": {
              "type": "string"
            },
            "text/plain": [
              "'HOLA MI NOMBRE ES SAM'"
            ]
          },
          "metadata": {},
          "execution_count": 114
        }
      ]
    },
    {
      "cell_type": "code",
      "source": [
        "st.split('a')"
      ],
      "metadata": {
        "colab": {
          "base_uri": "https://localhost:8080/"
        },
        "id": "0BkDZz9vU4w2",
        "outputId": "063fb036-89f3-42e8-ce82-ed1895b18dae"
      },
      "execution_count": 115,
      "outputs": [
        {
          "output_type": "execute_result",
          "data": {
            "text/plain": [
              "['Hol', ' mi nombre es S', 'm']"
            ]
          },
          "metadata": {},
          "execution_count": 115
        }
      ]
    },
    {
      "cell_type": "code",
      "source": [
        "st.split()"
      ],
      "metadata": {
        "id": "i80E4-XxIV--",
        "colab": {
          "base_uri": "https://localhost:8080/"
        },
        "outputId": "8d1a2541-8cad-43b0-80ee-8dd20c8f6852"
      },
      "execution_count": 116,
      "outputs": [
        {
          "output_type": "execute_result",
          "data": {
            "text/plain": [
              "['Hola', 'mi', 'nombre', 'es', 'Sam']"
            ]
          },
          "metadata": {},
          "execution_count": 116
        }
      ]
    },
    {
      "cell_type": "code",
      "source": [
        "st.split()[0]"
      ],
      "metadata": {
        "colab": {
          "base_uri": "https://localhost:8080/",
          "height": 35
        },
        "id": "8AIR8-6_VSm1",
        "outputId": "c455a11f-dea3-4f14-a20b-95109acb29cd"
      },
      "execution_count": 117,
      "outputs": [
        {
          "output_type": "execute_result",
          "data": {
            "application/vnd.google.colaboratory.intrinsic+json": {
              "type": "string"
            },
            "text/plain": [
              "'Hola'"
            ]
          },
          "metadata": {},
          "execution_count": 117
        }
      ]
    },
    {
      "cell_type": "markdown",
      "source": [
        "## Files lecture"
      ],
      "metadata": {
        "id": "m2v4_2wAeN8U"
      }
    },
    {
      "cell_type": "code",
      "source": [
        "from google.colab import files\n",
        "\n",
        "uploaded = files.upload()\n",
        "\n",
        "for fn in uploaded.keys():\n",
        "  print('User uploaded file \"{name}\" with length {length} bytes'.format(\n",
        "      name=fn, length=len(uploaded[fn])))"
      ],
      "metadata": {
        "colab": {
          "resources": {
            "http://localhost:8080/nbextensions/google.colab/files.js": {
              "data": "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",
              "ok": true,
              "headers": [
                [
                  "content-type",
                  "application/javascript"
                ]
              ],
              "status": 200,
              "status_text": ""
            }
          },
          "base_uri": "https://localhost:8080/",
          "height": 39
        },
        "id": "A4R3ug4MViXh",
        "outputId": "0ec44607-9861-4933-d203-11239f87c44f"
      },
      "execution_count": 118,
      "outputs": [
        {
          "output_type": "display_data",
          "data": {
            "text/html": [
              "\n",
              "     <input type=\"file\" id=\"files-a8956446-a0a6-4b0e-8a4f-2a63f4c408b1\" name=\"files[]\" multiple disabled\n",
              "        style=\"border:none\" />\n",
              "     <output id=\"result-a8956446-a0a6-4b0e-8a4f-2a63f4c408b1\">\n",
              "      Upload widget is only available when the cell has been executed in the\n",
              "      current browser session. Please rerun this cell to enable.\n",
              "      </output>\n",
              "      <script src=\"/nbextensions/google.colab/files.js\"></script> "
            ],
            "text/plain": [
              "<IPython.core.display.HTML object>"
            ]
          },
          "metadata": {}
        }
      ]
    },
    {
      "cell_type": "code",
      "execution_count": 126,
      "metadata": {
        "id": "1WLxpPkodU78",
        "colab": {
          "base_uri": "https://localhost:8080/"
        },
        "outputId": "6d09dafd-f82f-4e83-f5b2-aec9b0e65b03"
      },
      "outputs": [
        {
          "output_type": "stream",
          "name": "stdout",
          "text": [
            "Congratulations you have successfully opened the file\n",
            "\n",
            "escribi esto\n"
          ]
        }
      ],
      "source": [
        "# filepath\n",
        "filepath = 'file.txt'\n",
        "filex=open(filepath,'r')\n",
        "\n",
        "for line in filex.readlines():\n",
        "  print(line)\n",
        "\n",
        "filex.close()"
      ]
    },
    {
      "cell_type": "code",
      "source": [
        "filex = open(filepath,'+a')\n",
        "filex.write('escribi esto')\n",
        "filex.close()"
      ],
      "metadata": {
        "id": "y2B0_GjaVgXs"
      },
      "execution_count": 125,
      "outputs": []
    },
    {
      "cell_type": "markdown",
      "source": [
        "## structure"
      ],
      "metadata": {
        "id": "XQ0xb1LDhIUW"
      }
    },
    {
      "cell_type": "code",
      "execution_count": 128,
      "metadata": {
        "id": "IQMpfnyedU8J",
        "colab": {
          "base_uri": "https://localhost:8080/"
        },
        "outputId": "857eed05-bec8-42d2-9399-6957d28829cd"
      },
      "outputs": [
        {
          "output_type": "stream",
          "name": "stdout",
          "text": [
            "[2, 4, 6, 8, 10, 12, 14, 16, 18, 20]\n"
          ]
        }
      ],
      "source": [
        "nums = [1,2,3,4,5,6,7,8,9,10,11,12,13,14,15,16,17,18,19,20]\n",
        "\n",
        "es_par = lambda x: (x%2==0)\n",
        "\n",
        "filtered = list(filter(es_par,nums))\n",
        "\n",
        "print(filtered)"
      ]
    },
    {
      "cell_type": "code",
      "execution_count": 130,
      "metadata": {
        "id": "T9F1b8FhdU8K",
        "colab": {
          "base_uri": "https://localhost:8080/"
        },
        "outputId": "1c5277d1-4151-4f28-ce4a-7f063a8df4eb"
      },
      "outputs": [
        {
          "output_type": "stream",
          "name": "stdout",
          "text": [
            "[1, 4, 6, 8, 9, 10, 12, 14, 15, 16, 18, 20, 21, 22, 24, 25, 26, 27, 28, 30, 32, 33, 34, 35, 36, 38, 39, 40, 42, 44, 45, 46, 48, 49, 50]\n"
          ]
        }
      ],
      "source": [
        "alist = [i for i in range(1, 51)]\n",
        "blist = [2,3,5,7,11,13,17,19,23,29,31,37,41,43,47]\n",
        "\n",
        "flist = [i for i in alist if i not in blist]\n",
        "\n",
        "print(flist)"
      ]
    },
    {
      "cell_type": "code",
      "source": [
        "def func():\n",
        "  return '11'\n",
        "\n",
        "def func():\n",
        "  return '10'\n",
        "\n",
        "print(func())"
      ],
      "metadata": {
        "colab": {
          "base_uri": "https://localhost:8080/"
        },
        "id": "nJ9pKsfLYxus",
        "outputId": "e43f4464-ee7e-4917-be15-f5a4f5e3a761"
      },
      "execution_count": 132,
      "outputs": [
        {
          "output_type": "stream",
          "name": "stdout",
          "text": [
            "10\n"
          ]
        }
      ]
    },
    {
      "cell_type": "markdown",
      "metadata": {
        "id": "4ZGCgr6aZX3n"
      },
      "source": [
        "** Denis está contigo en un proyecto grupal para el curso de Programación.\n",
        "Ustedes deben dibujar un rectángulo con Python para la presentación final.\n",
        "El profesor les avisó que, para tener buena nota, tienen que hacer un rectángulo que no sea tan sencillo. Para ello deciden separarse el trabajo, uno programa\n",
        "y el otro piensa como hacerlo especial. Al día siguiente, Denis te muestra un rectángulo que tiene esta forma: **\n",
        " \n",
        "<figure>\n",
        "<center>\n",
        "<img src='data:image/png;base64,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' />\n",
        "<figcaption>Image Caption</figcaption></center>\n",
        "</figure>"
      ]
    },
    {
      "cell_type": "markdown",
      "metadata": {
        "id": "6cW6aVxdb4Bq"
      },
      "source": [
        "Ella ha decidido crear un rectángulo especial llenándolo de letras. Te explica que ha utilizado el par de coordenadas i, j para identificar cada celda del\n",
        "rectángulo, empezando desde 0, 0. Para poder llenar cada celda se tienen 2 letras a elegir, una letra base y otra letra especial. Utilizando las reglas, se\n",
        "decide cuál letra va en cada celda dependiendo de su posición i, j. Al terminar su explicación, te da un papel con dichas reglas:\n",
        "\n",
        "* Para empezar a construir el rectángulo necesitas estas 5 partes: longitud, altura, 1 letra base, 1 letra especial y 1 valor determinante.\n",
        "* Longitud y altura siempre tienen un valor mayor que 0 y nunca tendrán el mismo valor.\n",
        "* El valor determinante es igual al valor absoluto de la resta entre longitud y altura.\n",
        "* La regla para definir qué letra va en cada posición es:\n",
        "– Si i + j es múltiplo del valor determinante, entonces en esa posición i, j va una letra especial, en caso contrario, va una letra base.\n",
        "* Se tiene que retornar un string que represente la forma del rectángulo.\n",
        "Para ello pueden concatenar un string letra por letra y crear un salto de linea concatenando el caracter especial \"\\n\".\n",
        "\n",
        "Ejemplo\n",
        "\n",
        "Input:\n",
        "* Longitud = 6\n",
        "* Altura = 4\n",
        "* LetraBase = ’O’\n",
        "* LetraEspecial = ’L’\n",
        "\n",
        "Output:\n",
        "\n",
        "\"LOLOLO\\nOLOLOL\\nLOLOLO\\nOLOLOL\"\n",
        "\n",
        "Lo que equivale a:\n",
        "\n",
        "LOLOLO\n",
        "\n",
        "OLOLOL\n",
        "\n",
        "LOLOLO\n",
        "\n",
        "OLOLOL"
      ]
    },
    {
      "cell_type": "code",
      "metadata": {
        "id": "ZiByczFNZZ7z"
      },
      "source": [
        "L=6\n",
        "H=4\n",
        "LB='O'\n",
        "LE='L'"
      ],
      "execution_count": 136,
      "outputs": []
    },
    {
      "cell_type": "code",
      "source": [
        "d=abs(L-H)\n",
        "cad = ''\n",
        "\n",
        "for j in range(H):\n",
        "  c=''\n",
        "  for i in range(L):\n",
        "    if (i+j)%d==0:\n",
        "      c = c + LE\n",
        "    else:\n",
        "      c= c + LB\n",
        "  c = c+'\\n'\n",
        "  cad = cad + c"
      ],
      "metadata": {
        "id": "FMyvYC5haSW8"
      },
      "execution_count": 139,
      "outputs": []
    },
    {
      "cell_type": "code",
      "metadata": {
        "id": "28IRGA9M724N",
        "colab": {
          "base_uri": "https://localhost:8080/"
        },
        "outputId": "3fdbbb9b-7c0f-46b1-af76-f7ff01b0227b"
      },
      "source": [
        "print(cad)"
      ],
      "execution_count": 141,
      "outputs": [
        {
          "output_type": "stream",
          "name": "stdout",
          "text": [
            "LOLOLO\n",
            "OLOLOL\n",
            "LOLOLO\n",
            "OLOLOL\n",
            "\n"
          ]
        }
      ]
    },
    {
      "cell_type": "markdown",
      "metadata": {
        "id": "sVOkoDkkDvvt"
      },
      "source": [
        "# Eso es todo"
      ]
    }
  ],
  "metadata": {
    "kernelspec": {
      "display_name": "Python 3",
      "language": "python",
      "name": "python3"
    },
    "language_info": {
      "codemirror_mode": {
        "name": "ipython",
        "version": 3
      },
      "file_extension": ".py",
      "mimetype": "text/x-python",
      "name": "python",
      "nbconvert_exporter": "python",
      "pygments_lexer": "ipython3",
      "version": "3.6.8"
    },
    "colab": {
      "name": "Clean-Python Basic.ipynb",
      "provenance": [],
      "collapsed_sections": []
    }
  },
  "nbformat": 4,
  "nbformat_minor": 0
}